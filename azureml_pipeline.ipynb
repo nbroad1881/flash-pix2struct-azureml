{
 "cells": [
  {
   "cell_type": "code",
   "execution_count": 1,
   "metadata": {},
   "outputs": [
    {
     "name": "stderr",
     "output_type": "stream",
     "text": [
      "Found the config file in: east2.json\n"
     ]
    }
   ],
   "source": [
    "import os\n",
    "from datetime import datetime\n",
    "\n",
    "from azure.ai.ml import MLClient, command, dsl, Input, Output\n",
    "from azure.ai.ml.entities import Environment, BuildContext, AmlCompute\n",
    "from azure.identity import InteractiveBrowserCredential\n",
    "\n",
    "credential = InteractiveBrowserCredential()\n",
    "\n",
    "PATH_TO_CONFIG_FILE = \"\"\n",
    "\n",
    "ml_client = MLClient.from_config(credential, path=PATH_TO_CONFIG_FILE)"
   ]
  },
  {
   "cell_type": "code",
   "execution_count": 2,
   "metadata": {},
   "outputs": [],
   "source": [
    "COMPUTE_MAPPING = {\n",
    "    # **Flash attention does not work on V100s**\n",
    "    \"4xV100\": \"Standard_NC24s_v3\",\n",
    "    \"2xV100\": \"Standard_NC12s_v3\",\n",
    "    \"1xV100\": \"Standard_NC6s_v3\",\n",
    "    \"4xT4\": \"Standard_NC64as_T4_v3\",\n",
    "    \"1xT4\": \"Standard_NC4as_T4_v3\",\n",
    "    \"1xA10\": \"Standard_NV36adms_A10_v5\",\n",
    "    \"2xA10\": \"Standard_NV72ads_A10_v5\",\n",
    "}"
   ]
  },
  {
   "cell_type": "code",
   "execution_count": 6,
   "metadata": {},
   "outputs": [],
   "source": [
    "MODEL_NAME = \"pix2struct-cord\"\n",
    "TRAIN_DIR = \"train\"\n",
    "TRAIN_ENV_NAME = \"p2s_train_env\"\n",
    "TRAIN_COMPUTE_NAME = \"p2s-t4\"\n",
    "TRAIN_INSTANCE_TYPE = COMPUTE_MAPPING[\"1xT4\"]\n",
    "\n",
    "DATASTORE_NAME = \"workspaceartifactstore\"\n",
    "\n",
    "NUM_NODES = 1\n",
    "NUM_GPUS = 1\n",
    "\n",
    "# YearMonthDayHourMinute\n",
    "timenow = datetime.utcnow().strftime(\"%Y%m%d%H%M\")\n",
    "\n",
    "TRAINING_OUTPUT_PATH = MODEL_NAME + \"__\" +timenow"
   ]
  },
  {
   "cell_type": "code",
   "execution_count": 7,
   "metadata": {},
   "outputs": [],
   "source": [
    "def get_or_create_compute_target(\n",
    "    ml_client,\n",
    "    compute_name,\n",
    "    instance_type=\"STANDARD_DS3_v2\",\n",
    "    min_nodes=0,\n",
    "    max_nodes=1,\n",
    "    idle_time=300,\n",
    "):\n",
    "    try:\n",
    "        cmpute = ml_client.compute.get(compute_name)\n",
    "        cmpute_name = cmpute.name\n",
    "    except Exception:\n",
    "        print(f\"Creating a new {instance_type} compute target...\")\n",
    "        compute = AmlCompute(\n",
    "            name=compute_name,\n",
    "            size=instance_type,\n",
    "            min_instances=min_nodes,\n",
    "            max_instances=max_nodes,\n",
    "            idle_time_before_scale_down=idle_time,\n",
    "        )\n",
    "        ml_client.compute.begin_create_or_update(compute)\n",
    "        cmpute_name = compute.name\n",
    "    return cmpute_name\n",
    "\n",
    "\n",
    "def get_environment(\n",
    "    environment_name, dependencies_dir, ml_client, gpu=False, dep_yaml=None, dockerfile_path=None\n",
    "):\n",
    "    try:\n",
    "        env = ml_client.environments.get(name=environment_name)\n",
    "    except Exception:\n",
    "        if gpu:\n",
    "            image = \"mcr.microsoft.com/azureml/openmpi4.1.0-cuda11.8-cudnn8-ubuntu22.04\"\n",
    "        else:\n",
    "            image = \"mcr.microsoft.com/azureml/openmpi4.1.0-ubuntu20.04:latest\"\n",
    "\n",
    "        if dockerfile_path is not None:\n",
    "            build_context = BuildContext(path=dependencies_dir, dockerfile_path=dockerfile_path)\n",
    "\n",
    "            env = Environment(\n",
    "                name=environment_name,\n",
    "                description=\"Custom environment\",\n",
    "                build=build_context,\n",
    "            )\n",
    "        else:\n",
    "            env = Environment(\n",
    "                name=environment_name,\n",
    "                description=\"Custom environment\",\n",
    "                conda_file=os.path.join(dependencies_dir, dep_yaml),\n",
    "                image=image\n",
    "            )\n",
    "\n",
    "        env = ml_client.environments.create_or_update(env)\n",
    "\n",
    "    return env"
   ]
  },
  {
   "cell_type": "code",
   "execution_count": 12,
   "metadata": {},
   "outputs": [
    {
     "name": "stderr",
     "output_type": "stream",
     "text": [
      "\u001b[32mUploading train (0.37 MBs): 100%|██████████| 370195/370195 [00:00<00:00, 548237.43it/s]\n",
      "\u001b[39m\n",
      "\n"
     ]
    }
   ],
   "source": [
    "train_environment = get_environment(\n",
    "    environment_name=TRAIN_ENV_NAME,\n",
    "    dependencies_dir=TRAIN_DIR,\n",
    "    ml_client=ml_client,\n",
    "    gpu=True,\n",
    "    dockerfile_path=\"Dockerfile\"\n",
    ")\n",
    "\n",
    "train_compute = get_or_create_compute_target(\n",
    "    ml_client=ml_client,\n",
    "        compute_name=TRAIN_COMPUTE_NAME,\n",
    "        min_nodes=0,\n",
    "        max_nodes=2,\n",
    "        instance_type=TRAIN_INSTANCE_TYPE,\n",
    "    )"
   ]
  },
  {
   "cell_type": "code",
   "execution_count": 13,
   "metadata": {},
   "outputs": [],
   "source": [
    "distribution = None\n",
    "environment_variables = None\n",
    "\n",
    "if NUM_NODES > 1:\n",
    "    distribution = {\n",
    "        \"type\": \"PyTorch\",\n",
    "        \"process_count_per_instance\": NUM_GPUS,\n",
    "    }\n",
    "    environment_variables={\n",
    "        \"NCCL_SOCKET_IFNAME\":\"eth0\",\n",
    "        \"NCCL_DEBUG\": \"INFO\"\n",
    "    }\n",
    "\n",
    "\n",
    "train_command = command(\n",
    "    name=\"train\",\n",
    "    display_name=\"Train pix2struct \",\n",
    "    inputs={\n",
    "        \"nproc_per_node\": NUM_GPUS,\n",
    "        \"nnodes\": NUM_NODES,\n",
    "    },\n",
    "    outputs={\n",
    "        \"output_dir\": Output(\n",
    "            type=\"uri_folder\",\n",
    "            path=f\"azureml://datastores/{DATASTORE_NAME}/paths/{TRAINING_OUTPUT_PATH}\",\n",
    "            mode=\"rw_mount\",\n",
    "        ),\n",
    "    },\n",
    "    # The source folder of the component\n",
    "    code=\"./train\",\n",
    "    command=\"\"\"torchrun \\\n",
    "             --nnodes ${{inputs.nnodes}} \\\n",
    "             --nproc_per_node  ${{inputs.nproc_per_node}} \\\n",
    "                run.py \\\n",
    "                --model_name_or_path google/pix2struct-base \\\n",
    "                --evaluation_strategy epoch \\\n",
    "                --save_strategy epoch \\\n",
    "                --logging_steps 25 \\\n",
    "                --max_patches 1024 \\\n",
    "                --per_device_train_batch_size 2 \\\n",
    "                --per_device_eval_batch_size 2 \\\n",
    "                --learning_rate 3e-5 \\\n",
    "                --num_train_epochs 3 \\\n",
    "                --weight_decay 0.01 \\\n",
    "                --optim adamw_torch \\\n",
    "                --warmup_steps 100 \\\n",
    "                --fp16 \\\n",
    "                --output_dir ${{outputs.output_dir}} \\\n",
    "                --logging_dir ${{outputs.output_dir}} \\\n",
    "                --dataloader_num_workers 4 \\\n",
    "                --gradient_accumulation_steps 1 \\\n",
    "                --seed 42 \\\n",
    "                --report_to mlflow \\\n",
    "                --remove_unused_columns False \\\n",
    "                --prompt \"Extract the items from the receipt in the image below:\"\n",
    "            \"\"\",\n",
    "    environment=f\"{train_environment.name}:{train_environment.version}\",\n",
    "    compute=train_compute,\n",
    "    instance_count=NUM_NODES,  \n",
    "    distribution=distribution,\n",
    "    environment_variables=environment_variables,\n",
    "    shm_size=\"16g\"\n",
    ")\n"
   ]
  },
  {
   "cell_type": "code",
   "execution_count": 14,
   "metadata": {},
   "outputs": [
    {
     "name": "stderr",
     "output_type": "stream",
     "text": [
      "\u001b[32mUploading train (0.37 MBs): 100%|██████████| 370195/370195 [00:00<00:00, 723045.07it/s]\n",
      "\u001b[39m\n",
      "\n"
     ]
    }
   ],
   "source": [
    "@dsl.pipeline(\n",
    "    description=\"flash p2s\",\n",
    "    display_name=f\"flash p2s\",\n",
    ")\n",
    "def pipeline_func():\n",
    "\n",
    "    train_job = train_command()\n",
    "\n",
    "    return {\n",
    "        \"pipeline_job_train_data\": train_job.outputs.output_dir,\n",
    "    }\n",
    "\n",
    "pipeline = pipeline_func()\n",
    "\n",
    "\n",
    "pipeline_job = ml_client.jobs.create_or_update(\n",
    "    pipeline,\n",
    "    experiment_name=TRAINING_OUTPUT_PATH,\n",
    ")"
   ]
  },
  {
   "cell_type": "code",
   "execution_count": 11,
   "metadata": {},
   "outputs": [
    {
     "data": {
      "text/html": [
       "<table style=\"width:100%\"><tr><th>Experiment</th><th>Name</th><th>Type</th><th>Status</th><th>Details Page</th></tr><tr><td>pix2struct-cord__202307101651</td><td>busy_plow_v5c6cg3j2n</td><td>pipeline</td><td>Preparing</td><td><a href=\"https://ml.azure.com/runs/busy_plow_v5c6cg3j2n?wsid=/subscriptions/96f8b384-0587-41d4-9105-9fe6dca745b3/resourcegroups/nicholas-broad-azureml-rsg/workspaces/nicholasbroad&amp;tid=f40b18ba-b66c-49e4-9fd8-4fc7d3d19f0f\" target=\"_blank\" rel=\"noopener\">Link to Azure Machine Learning studio</a></td></tr></table>"
      ],
      "text/plain": [
       "PipelineJob({'inputs': {}, 'outputs': {'pipeline_job_train_data': <azure.ai.ml.entities._job.pipeline._io.base.PipelineOutput object at 0x7f6918629c30>}, 'jobs': {}, 'component': PipelineComponent({'intellectual_property': None, 'auto_increment_version': False, 'source': 'REMOTE.WORKSPACE.JOB', 'is_anonymous': True, 'auto_delete_setting': None, 'name': 'azureml_anonymous', 'description': 'flash p2s', 'tags': {}, 'properties': {}, 'print_as_yaml': True, 'id': None, 'Resource__source_path': None, 'base_path': '/workspaces/aml', 'creation_context': None, 'serialize': <msrest.serialization.Serializer object at 0x7f6918629690>, 'version': '1', 'latest_version': None, 'schema': None, 'type': 'pipeline', 'display_name': 'flash p2s', 'is_deterministic': None, 'inputs': {}, 'outputs': {'pipeline_job_train_data': {}}, 'yaml_str': None, 'other_parameter': {}, 'jobs': {'train_job': Command({'parameters': {}, 'init': False, 'name': 'train_job', 'type': 'command', 'status': None, 'log_files': None, 'description': None, 'tags': {}, 'properties': {}, 'print_as_yaml': True, 'id': None, 'Resource__source_path': None, 'base_path': '/workspaces/aml', 'creation_context': None, 'serialize': <msrest.serialization.Serializer object at 0x7f69186281c0>, 'allowed_keys': {}, 'key_restriction': False, 'logger': <Logger attr_dict (WARNING)>, 'display_name': 'Train pix2struct ', 'experiment_name': None, 'compute': 'p2s-t4', 'services': None, 'comment': None, 'job_inputs': {'nproc_per_node': '1', 'nnodes': '1'}, 'job_outputs': {'output_dir': '${{parent.outputs.pipeline_job_train_data}}'}, 'inputs': {'nproc_per_node': <azure.ai.ml.entities._job.pipeline._io.base.NodeInput object at 0x7f6918628a90>, 'nnodes': <azure.ai.ml.entities._job.pipeline._io.base.NodeInput object at 0x7f6918628c70>}, 'outputs': {'output_dir': <azure.ai.ml.entities._job.pipeline._io.base.NodeOutput object at 0x7f69186298d0>}, 'component': 'azureml_anonymous:ba543089-1e92-41f3-a3fa-651931ac822d', 'referenced_control_flow_node_instance_id': None, 'kwargs': {'services': None}, 'instance_id': 'f72da0f9-531a-400f-8427-cb6b7f27e13b', 'source': 'REMOTE.WORKSPACE.COMPONENT', 'validate_required_input_not_provided': True, 'limits': None, 'identity': None, 'distribution': None, 'environment_variables': {}, 'environment': None, 'resources': {'instance_count': 1, 'shm_size': '16g'}, 'queue_settings': None, 'swept': False})}, 'job_types': {'command': 1}, 'job_sources': {'REMOTE.WORKSPACE.COMPONENT': 1}, 'source_job_id': None}), 'type': 'pipeline', 'status': 'Preparing', 'log_files': None, 'name': 'busy_plow_v5c6cg3j2n', 'description': 'flash p2s', 'tags': {}, 'properties': {'azureml.DevPlatv2': 'true', 'azureml.DatasetAccessMode': 'Asset', 'azureml.runsource': 'azureml.PipelineRun', 'runSource': 'MFE', 'runType': 'HTTP', 'azureml.parameters': '{}', 'azureml.continue_on_step_failure': 'True', 'azureml.continue_on_failed_optional_input': 'True', 'azureml.enforceRerun': 'False', 'azureml.defaultDataStoreName': 'workspaceblobstore', 'azureml.pipelineComponent': 'pipelinerun'}, 'print_as_yaml': True, 'id': '/subscriptions/96f8b384-0587-41d4-9105-9fe6dca745b3/resourceGroups/nicholas-broad-azureml-rsg/providers/Microsoft.MachineLearningServices/workspaces/nicholasbroad/jobs/busy_plow_v5c6cg3j2n', 'Resource__source_path': None, 'base_path': '/workspaces/aml', 'creation_context': <azure.ai.ml.entities._system_data.SystemData object at 0x7f691862a6b0>, 'serialize': <msrest.serialization.Serializer object at 0x7f691862b670>, 'display_name': 'flash p2s', 'experiment_name': 'pix2struct-cord__202307101651', 'compute': None, 'services': {'Tracking': {'endpoint': 'azureml://eastus2.api.azureml.ms/mlflow/v1.0/subscriptions/96f8b384-0587-41d4-9105-9fe6dca745b3/resourceGroups/nicholas-broad-azureml-rsg/providers/Microsoft.MachineLearningServices/workspaces/nicholasbroad?', 'type': 'Tracking'}, 'Studio': {'endpoint': 'https://ml.azure.com/runs/busy_plow_v5c6cg3j2n?wsid=/subscriptions/96f8b384-0587-41d4-9105-9fe6dca745b3/resourcegroups/nicholas-broad-azureml-rsg/workspaces/nicholasbroad&tid=f40b18ba-b66c-49e4-9fd8-4fc7d3d19f0f', 'type': 'Studio'}}, 'settings': {}, 'identity': None, 'default_code': None, 'default_environment': None})"
      ]
     },
     "execution_count": 11,
     "metadata": {},
     "output_type": "execute_result"
    }
   ],
   "source": [
    "pipeline_job"
   ]
  },
  {
   "cell_type": "code",
   "execution_count": null,
   "metadata": {},
   "outputs": [],
   "source": []
  }
 ],
 "metadata": {
  "kernelspec": {
   "display_name": "Python 3",
   "language": "python",
   "name": "python3"
  },
  "language_info": {
   "codemirror_mode": {
    "name": "ipython",
    "version": 3
   },
   "file_extension": ".py",
   "mimetype": "text/x-python",
   "name": "python",
   "nbconvert_exporter": "python",
   "pygments_lexer": "ipython3",
   "version": "3.10.12"
  },
  "orig_nbformat": 4
 },
 "nbformat": 4,
 "nbformat_minor": 2
}
